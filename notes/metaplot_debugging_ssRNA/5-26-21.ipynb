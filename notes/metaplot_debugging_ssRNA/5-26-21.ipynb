{
 "cells": [
  {
   "cell_type": "markdown",
   "metadata": {},
   "source": [
    "# Debugging pandas attribute access"
   ]
  },
  {
   "cell_type": "markdown",
   "metadata": {},
   "source": [
    "Currently having issues since each entry in the sample.tsv file does not have a unique ID. This is because\n",
    "as of now I am expecting two file per sample, one with forward and one with the reverse strand. To overcome this\n",
    "I have been using `sample_name` and `strand` attributes to uniquely ID samples. Here experimenting with better\n",
    "options.\n"
   ]
  },
  {
   "cell_type": "code",
   "execution_count": 1,
   "metadata": {},
   "outputs": [],
   "source": [
    "import pandas as pd\n",
    "# read example samples.tsv\n",
    "df = pd.read_table('/home/ethollem/projects/metaploter/runs/RNAss_hg19_genes/samples.tsv').set_index('sample_name', drop=False)"
   ]
  },
  {
   "cell_type": "code",
   "execution_count": 2,
   "metadata": {
    "scrolled": true
   },
   "outputs": [
    {
     "data": {
      "text/html": [
       "<div>\n",
       "<style scoped>\n",
       "    .dataframe tbody tr th:only-of-type {\n",
       "        vertical-align: middle;\n",
       "    }\n",
       "\n",
       "    .dataframe tbody tr th {\n",
       "        vertical-align: top;\n",
       "    }\n",
       "\n",
       "    .dataframe thead th {\n",
       "        text-align: right;\n",
       "    }\n",
       "</style>\n",
       "<table border=\"1\" class=\"dataframe\">\n",
       "  <thead>\n",
       "    <tr style=\"text-align: right;\">\n",
       "      <th></th>\n",
       "      <th>sample_name</th>\n",
       "      <th>filepath</th>\n",
       "      <th>strand</th>\n",
       "      <th>operation</th>\n",
       "      <th>null_val</th>\n",
       "    </tr>\n",
       "    <tr>\n",
       "      <th>sample_name</th>\n",
       "      <th></th>\n",
       "      <th></th>\n",
       "      <th></th>\n",
       "      <th></th>\n",
       "      <th></th>\n",
       "    </tr>\n",
       "  </thead>\n",
       "  <tbody>\n",
       "    <tr>\n",
       "      <th>ssR749H</th>\n",
       "      <td>ssR749H</td>\n",
       "      <td>data/RNAss/R749H_structure_score_pos_non_uniqu...</td>\n",
       "      <td>fwd</td>\n",
       "      <td>mean</td>\n",
       "      <td>0</td>\n",
       "    </tr>\n",
       "    <tr>\n",
       "      <th>ssR749H</th>\n",
       "      <td>ssR749H</td>\n",
       "      <td>data/RNAss/R749H_structure_score_neg_non_uniqu...</td>\n",
       "      <td>rev</td>\n",
       "      <td>mean</td>\n",
       "      <td>0</td>\n",
       "    </tr>\n",
       "    <tr>\n",
       "      <th>ssWT</th>\n",
       "      <td>ssWT</td>\n",
       "      <td>data/RNAss/WT_structure_score_pos_non_unique.b...</td>\n",
       "      <td>fwd</td>\n",
       "      <td>mean</td>\n",
       "      <td>0</td>\n",
       "    </tr>\n",
       "    <tr>\n",
       "      <th>ssWT</th>\n",
       "      <td>ssWT</td>\n",
       "      <td>data/RNAss/WT_structure_score_neg_non_unique.b...</td>\n",
       "      <td>rev</td>\n",
       "      <td>mean</td>\n",
       "      <td>0</td>\n",
       "    </tr>\n",
       "  </tbody>\n",
       "</table>\n",
       "</div>"
      ],
      "text/plain": [
       "            sample_name                                           filepath  \\\n",
       "sample_name                                                                  \n",
       "ssR749H         ssR749H  data/RNAss/R749H_structure_score_pos_non_uniqu...   \n",
       "ssR749H         ssR749H  data/RNAss/R749H_structure_score_neg_non_uniqu...   \n",
       "ssWT               ssWT  data/RNAss/WT_structure_score_pos_non_unique.b...   \n",
       "ssWT               ssWT  data/RNAss/WT_structure_score_neg_non_unique.b...   \n",
       "\n",
       "            strand operation  null_val  \n",
       "sample_name                             \n",
       "ssR749H        fwd      mean         0  \n",
       "ssR749H        rev      mean         0  \n",
       "ssWT           fwd      mean         0  \n",
       "ssWT           rev      mean         0  "
      ]
     },
     "execution_count": 2,
     "metadata": {},
     "output_type": "execute_result"
    }
   ],
   "source": [
    "df"
   ]
  },
  {
   "cell_type": "markdown",
   "metadata": {},
   "source": [
    "Current method"
   ]
  },
  {
   "cell_type": "code",
   "execution_count": 3,
   "metadata": {},
   "outputs": [
    {
     "data": {
      "text/html": [
       "<div>\n",
       "<style scoped>\n",
       "    .dataframe tbody tr th:only-of-type {\n",
       "        vertical-align: middle;\n",
       "    }\n",
       "\n",
       "    .dataframe tbody tr th {\n",
       "        vertical-align: top;\n",
       "    }\n",
       "\n",
       "    .dataframe thead th {\n",
       "        text-align: right;\n",
       "    }\n",
       "</style>\n",
       "<table border=\"1\" class=\"dataframe\">\n",
       "  <thead>\n",
       "    <tr style=\"text-align: right;\">\n",
       "      <th></th>\n",
       "      <th>sample_name</th>\n",
       "      <th>filepath</th>\n",
       "      <th>strand</th>\n",
       "      <th>operation</th>\n",
       "      <th>null_val</th>\n",
       "    </tr>\n",
       "    <tr>\n",
       "      <th>sample_name</th>\n",
       "      <th></th>\n",
       "      <th></th>\n",
       "      <th></th>\n",
       "      <th></th>\n",
       "      <th></th>\n",
       "    </tr>\n",
       "  </thead>\n",
       "  <tbody>\n",
       "    <tr>\n",
       "      <th>ssWT</th>\n",
       "      <td>ssWT</td>\n",
       "      <td>data/RNAss/WT_structure_score_pos_non_unique.b...</td>\n",
       "      <td>fwd</td>\n",
       "      <td>mean</td>\n",
       "      <td>0</td>\n",
       "    </tr>\n",
       "    <tr>\n",
       "      <th>ssWT</th>\n",
       "      <td>ssWT</td>\n",
       "      <td>data/RNAss/WT_structure_score_neg_non_unique.b...</td>\n",
       "      <td>rev</td>\n",
       "      <td>mean</td>\n",
       "      <td>0</td>\n",
       "    </tr>\n",
       "  </tbody>\n",
       "</table>\n",
       "</div>"
      ],
      "text/plain": [
       "            sample_name                                           filepath  \\\n",
       "sample_name                                                                  \n",
       "ssWT               ssWT  data/RNAss/WT_structure_score_pos_non_unique.b...   \n",
       "ssWT               ssWT  data/RNAss/WT_structure_score_neg_non_unique.b...   \n",
       "\n",
       "            strand operation  null_val  \n",
       "sample_name                             \n",
       "ssWT           fwd      mean         0  \n",
       "ssWT           rev      mean         0  "
      ]
     },
     "execution_count": 3,
     "metadata": {},
     "output_type": "execute_result"
    }
   ],
   "source": [
    "df.loc[df['sample_name'] == 'ssWT']"
   ]
  },
  {
   "cell_type": "markdown",
   "metadata": {},
   "source": [
    "Could create a new ID column"
   ]
  },
  {
   "cell_type": "code",
   "execution_count": 4,
   "metadata": {},
   "outputs": [],
   "source": [
    "df[\"id\"] = df[\"sample_name\"] + df[\"strand\"]"
   ]
  },
  {
   "cell_type": "code",
   "execution_count": 5,
   "metadata": {},
   "outputs": [
    {
     "data": {
      "text/html": [
       "<div>\n",
       "<style scoped>\n",
       "    .dataframe tbody tr th:only-of-type {\n",
       "        vertical-align: middle;\n",
       "    }\n",
       "\n",
       "    .dataframe tbody tr th {\n",
       "        vertical-align: top;\n",
       "    }\n",
       "\n",
       "    .dataframe thead th {\n",
       "        text-align: right;\n",
       "    }\n",
       "</style>\n",
       "<table border=\"1\" class=\"dataframe\">\n",
       "  <thead>\n",
       "    <tr style=\"text-align: right;\">\n",
       "      <th></th>\n",
       "      <th>sample_name</th>\n",
       "      <th>filepath</th>\n",
       "      <th>strand</th>\n",
       "      <th>operation</th>\n",
       "      <th>null_val</th>\n",
       "      <th>id</th>\n",
       "    </tr>\n",
       "    <tr>\n",
       "      <th>sample_name</th>\n",
       "      <th></th>\n",
       "      <th></th>\n",
       "      <th></th>\n",
       "      <th></th>\n",
       "      <th></th>\n",
       "      <th></th>\n",
       "    </tr>\n",
       "  </thead>\n",
       "  <tbody>\n",
       "    <tr>\n",
       "      <th>ssR749H</th>\n",
       "      <td>ssR749H</td>\n",
       "      <td>data/RNAss/R749H_structure_score_pos_non_uniqu...</td>\n",
       "      <td>fwd</td>\n",
       "      <td>mean</td>\n",
       "      <td>0</td>\n",
       "      <td>ssR749Hfwd</td>\n",
       "    </tr>\n",
       "    <tr>\n",
       "      <th>ssR749H</th>\n",
       "      <td>ssR749H</td>\n",
       "      <td>data/RNAss/R749H_structure_score_neg_non_uniqu...</td>\n",
       "      <td>rev</td>\n",
       "      <td>mean</td>\n",
       "      <td>0</td>\n",
       "      <td>ssR749Hrev</td>\n",
       "    </tr>\n",
       "    <tr>\n",
       "      <th>ssWT</th>\n",
       "      <td>ssWT</td>\n",
       "      <td>data/RNAss/WT_structure_score_pos_non_unique.b...</td>\n",
       "      <td>fwd</td>\n",
       "      <td>mean</td>\n",
       "      <td>0</td>\n",
       "      <td>ssWTfwd</td>\n",
       "    </tr>\n",
       "    <tr>\n",
       "      <th>ssWT</th>\n",
       "      <td>ssWT</td>\n",
       "      <td>data/RNAss/WT_structure_score_neg_non_unique.b...</td>\n",
       "      <td>rev</td>\n",
       "      <td>mean</td>\n",
       "      <td>0</td>\n",
       "      <td>ssWTrev</td>\n",
       "    </tr>\n",
       "  </tbody>\n",
       "</table>\n",
       "</div>"
      ],
      "text/plain": [
       "            sample_name                                           filepath  \\\n",
       "sample_name                                                                  \n",
       "ssR749H         ssR749H  data/RNAss/R749H_structure_score_pos_non_uniqu...   \n",
       "ssR749H         ssR749H  data/RNAss/R749H_structure_score_neg_non_uniqu...   \n",
       "ssWT               ssWT  data/RNAss/WT_structure_score_pos_non_unique.b...   \n",
       "ssWT               ssWT  data/RNAss/WT_structure_score_neg_non_unique.b...   \n",
       "\n",
       "            strand operation  null_val          id  \n",
       "sample_name                                         \n",
       "ssR749H        fwd      mean         0  ssR749Hfwd  \n",
       "ssR749H        rev      mean         0  ssR749Hrev  \n",
       "ssWT           fwd      mean         0     ssWTfwd  \n",
       "ssWT           rev      mean         0     ssWTrev  "
      ]
     },
     "execution_count": 5,
     "metadata": {},
     "output_type": "execute_result"
    }
   ],
   "source": [
    "df"
   ]
  },
  {
   "cell_type": "code",
   "execution_count": 6,
   "metadata": {},
   "outputs": [
    {
     "data": {
      "text/html": [
       "<div>\n",
       "<style scoped>\n",
       "    .dataframe tbody tr th:only-of-type {\n",
       "        vertical-align: middle;\n",
       "    }\n",
       "\n",
       "    .dataframe tbody tr th {\n",
       "        vertical-align: top;\n",
       "    }\n",
       "\n",
       "    .dataframe thead th {\n",
       "        text-align: right;\n",
       "    }\n",
       "</style>\n",
       "<table border=\"1\" class=\"dataframe\">\n",
       "  <thead>\n",
       "    <tr style=\"text-align: right;\">\n",
       "      <th></th>\n",
       "      <th>sample_name</th>\n",
       "      <th>filepath</th>\n",
       "      <th>strand</th>\n",
       "      <th>operation</th>\n",
       "      <th>null_val</th>\n",
       "    </tr>\n",
       "    <tr>\n",
       "      <th>id</th>\n",
       "      <th></th>\n",
       "      <th></th>\n",
       "      <th></th>\n",
       "      <th></th>\n",
       "      <th></th>\n",
       "    </tr>\n",
       "  </thead>\n",
       "  <tbody>\n",
       "    <tr>\n",
       "      <th>ssR749Hfwd</th>\n",
       "      <td>ssR749H</td>\n",
       "      <td>data/RNAss/R749H_structure_score_pos_non_uniqu...</td>\n",
       "      <td>fwd</td>\n",
       "      <td>mean</td>\n",
       "      <td>0</td>\n",
       "    </tr>\n",
       "    <tr>\n",
       "      <th>ssR749Hrev</th>\n",
       "      <td>ssR749H</td>\n",
       "      <td>data/RNAss/R749H_structure_score_neg_non_uniqu...</td>\n",
       "      <td>rev</td>\n",
       "      <td>mean</td>\n",
       "      <td>0</td>\n",
       "    </tr>\n",
       "    <tr>\n",
       "      <th>ssWTfwd</th>\n",
       "      <td>ssWT</td>\n",
       "      <td>data/RNAss/WT_structure_score_pos_non_unique.b...</td>\n",
       "      <td>fwd</td>\n",
       "      <td>mean</td>\n",
       "      <td>0</td>\n",
       "    </tr>\n",
       "    <tr>\n",
       "      <th>ssWTrev</th>\n",
       "      <td>ssWT</td>\n",
       "      <td>data/RNAss/WT_structure_score_neg_non_unique.b...</td>\n",
       "      <td>rev</td>\n",
       "      <td>mean</td>\n",
       "      <td>0</td>\n",
       "    </tr>\n",
       "  </tbody>\n",
       "</table>\n",
       "</div>"
      ],
      "text/plain": [
       "           sample_name                                           filepath  \\\n",
       "id                                                                          \n",
       "ssR749Hfwd     ssR749H  data/RNAss/R749H_structure_score_pos_non_uniqu...   \n",
       "ssR749Hrev     ssR749H  data/RNAss/R749H_structure_score_neg_non_uniqu...   \n",
       "ssWTfwd           ssWT  data/RNAss/WT_structure_score_pos_non_unique.b...   \n",
       "ssWTrev           ssWT  data/RNAss/WT_structure_score_neg_non_unique.b...   \n",
       "\n",
       "           strand operation  null_val  \n",
       "id                                     \n",
       "ssR749Hfwd    fwd      mean         0  \n",
       "ssR749Hrev    rev      mean         0  \n",
       "ssWTfwd       fwd      mean         0  \n",
       "ssWTrev       rev      mean         0  "
      ]
     },
     "execution_count": 6,
     "metadata": {},
     "output_type": "execute_result"
    }
   ],
   "source": [
    "# set index to id column\n",
    "df_id = df.set_index('id')\n",
    "df_id"
   ]
  },
  {
   "cell_type": "code",
   "execution_count": 12,
   "metadata": {},
   "outputs": [
    {
     "data": {
      "text/plain": [
       "'fwd'"
      ]
     },
     "execution_count": 12,
     "metadata": {},
     "output_type": "execute_result"
    }
   ],
   "source": [
    "df_id.loc['ssWTfwd', 'strand']"
   ]
  },
  {
   "cell_type": "markdown",
   "metadata": {},
   "source": [
    "Using above method can get the string directly without having to deal with weird pandas datatypes"
   ]
  }
 ],
 "metadata": {
  "kernelspec": {
   "display_name": "Python 3",
   "language": "python",
   "name": "python3"
  },
  "language_info": {
   "codemirror_mode": {
    "name": "ipython",
    "version": 3
   },
   "file_extension": ".py",
   "mimetype": "text/x-python",
   "name": "python",
   "nbconvert_exporter": "python",
   "pygments_lexer": "ipython3",
   "version": "3.8.5"
  }
 },
 "nbformat": 4,
 "nbformat_minor": 2
}
